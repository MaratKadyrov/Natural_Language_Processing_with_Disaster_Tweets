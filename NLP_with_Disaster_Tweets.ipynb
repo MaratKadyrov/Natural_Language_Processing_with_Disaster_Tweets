{
 "cells": [
  {
   "cell_type": "code",
   "execution_count": null,
   "metadata": {
    "colab": {
     "base_uri": "https://localhost:8080/"
    },
    "id": "AV9L7MNVKLPZ",
    "outputId": "6e7603b3-04b9-43a3-b55d-6a7f776b220a"
   },
   "outputs": [
    {
     "name": "stdout",
     "output_type": "stream",
     "text": [
      "--2022-09-09 05:09:01--  http://nlp.stanford.edu/data/glove.6B.zip\n",
      "Resolving nlp.stanford.edu (nlp.stanford.edu)... 171.64.67.140\n",
      "Connecting to nlp.stanford.edu (nlp.stanford.edu)|171.64.67.140|:80... connected.\n",
      "HTTP request sent, awaiting response... 302 Found\n",
      "Location: https://nlp.stanford.edu/data/glove.6B.zip [following]\n",
      "--2022-09-09 05:09:01--  https://nlp.stanford.edu/data/glove.6B.zip\n",
      "Connecting to nlp.stanford.edu (nlp.stanford.edu)|171.64.67.140|:443... connected.\n",
      "HTTP request sent, awaiting response... 301 Moved Permanently\n",
      "Location: https://downloads.cs.stanford.edu/nlp/data/glove.6B.zip [following]\n",
      "--2022-09-09 05:09:02--  https://downloads.cs.stanford.edu/nlp/data/glove.6B.zip\n",
      "Resolving downloads.cs.stanford.edu (downloads.cs.stanford.edu)... 171.64.64.22\n",
      "Connecting to downloads.cs.stanford.edu (downloads.cs.stanford.edu)|171.64.64.22|:443... connected.\n",
      "HTTP request sent, awaiting response... 200 OK\n",
      "Length: 862182613 (822M) [application/zip]\n",
      "Saving to: ‘glove.6B.zip’\n",
      "\n",
      "glove.6B.zip        100%[===================>] 822.24M  5.09MB/s    in 2m 39s  \n",
      "\n",
      "2022-09-09 05:11:42 (5.16 MB/s) - ‘glove.6B.zip’ saved [862182613/862182613]\n",
      "\n",
      "Archive:  glove.6B.zip\n",
      "  inflating: glove.6B.50d.txt        \n",
      "  inflating: glove.6B.100d.txt       \n",
      "  inflating: glove.6B.200d.txt       \n",
      "  inflating: glove.6B.300d.txt       \n",
      "\u001b[K     |████████████████████████████████| 647 kB 34.2 MB/s \n",
      "\u001b[?25h  Building wheel for annoy (setup.py) ... \u001b[?25l\u001b[?25hdone\n",
      "\u001b[K     |████████████████████████████████| 365 kB 27.9 MB/s \n",
      "\u001b[K     |████████████████████████████████| 212 kB 71.4 MB/s \n",
      "\u001b[K     |████████████████████████████████| 120 kB 69.5 MB/s \n",
      "\u001b[K     |████████████████████████████████| 115 kB 66.5 MB/s \n",
      "\u001b[K     |████████████████████████████████| 127 kB 73.9 MB/s \n",
      "\u001b[K     |████████████████████████████████| 4.7 MB 34.1 MB/s \n",
      "\u001b[K     |████████████████████████████████| 6.6 MB 57.8 MB/s \n",
      "\u001b[?25h"
     ]
    }
   ],
   "source": [
    "# Download glove.6b.100d.txt\n",
    "!wget http://nlp.stanford.edu/data/glove.6B.zip\n",
    "!unzip glove*.zip\n",
    "\n",
    "# Installation of additional libraries\n",
    "!pip install -q annoy\n",
    "!pip install -q datasets\n",
    "!pip install -q transformers"
   ]
  },
  {
   "cell_type": "code",
   "execution_count": null,
   "metadata": {
    "id": "T5vXgNSwMAWS"
   },
   "outputs": [],
   "source": [
    "import pandas as pd\n",
    "import numpy as np\n",
    "\n",
    "import spacy\n",
    "import re\n",
    "import os\n",
    "\n",
    "from sklearn.pipeline import Pipeline\n",
    "from sklearn.feature_extraction.text import TfidfVectorizer\n",
    "from sklearn.linear_model import LogisticRegression\n",
    "from sklearn.metrics import confusion_matrix, accuracy_score, precision_recall_fscore_support\n",
    "from sklearn.model_selection import train_test_split\n",
    "from tqdm import tqdm\n",
    "\n",
    "import torch\n",
    "import torch.nn as nn\n",
    "import torch.nn.functional as F\n",
    "from torchtext.data.utils import get_tokenizer\n",
    "from torchtext.vocab import build_vocab_from_iterator\n",
    "from torch.utils.data import Dataset, DataLoader\n",
    "\n",
    "\n",
    "from annoy import AnnoyIndex\n",
    "from datasets import load_metric, Dataset, DatasetDict, load_dataset\n",
    "from transformers import AutoTokenizer, TrainingArguments, AutoModelForSequenceClassification\n",
    "from transformers import TrainingArguments, Trainer\n",
    "from transformers import RobertaTokenizerFast, RobertaForSequenceClassification,Trainer, TrainingArguments\n",
    "import datasets\n",
    "from datasets import load_metric\n",
    "# import wandb\n",
    "\n",
    "from collections import Counter\n",
    "import seaborn as sns\n",
    "import matplotlib.pyplot as plt\n",
    "import warnings\n",
    "warnings.filterwarnings('ignore')"
   ]
  },
  {
   "cell_type": "code",
   "execution_count": null,
   "metadata": {
    "id": "tA3ubutnMcJn"
   },
   "outputs": [],
   "source": [
    "df_train = pd.read_csv('train.csv')\n",
    "df_test = pd.read_csv('test.csv')"
   ]
  },
  {
   "cell_type": "markdown",
   "metadata": {
    "id": "8KhguxFoP7bu"
   },
   "source": [
    "# Data Exploration"
   ]
  },
  {
   "cell_type": "markdown",
   "metadata": {
    "id": "b2S89AQ6q5po"
   },
   "source": [
    "## Class distribution\n"
   ]
  },
  {
   "cell_type": "code",
   "execution_count": null,
   "metadata": {
    "colab": {
     "base_uri": "https://localhost:8080/",
     "height": 295
    },
    "id": "LB0ilB8pQDYp",
    "outputId": "5a88f716-7fe6-4418-88c2-8baee00c19eb"
   },
   "outputs": [
    {
     "data": {
      "image/png": "[encoded data removed]",
      "text/plain": [
       "<Figure size 432x288 with 1 Axes>"
      ]
     },
     "metadata": {
      "needs_background": "light"
     },
     "output_type": "display_data"
    }
   ],
   "source": [
    "sns.countplot(df_train['target'])\n",
    "plt.title('Distribution of \"target\" column')\n",
    "plt.xlabel('Labels');"
   ]
  },
  {
   "cell_type": "markdown",
   "metadata": {
    "id": "FnPIxyz3Ndeg"
   },
   "source": [
    "## Clean text"
   ]
  },
  {
   "cell_type": "markdown",
   "metadata": {
    "id": "ILO10uyP1c4U"
   },
   "source": [
    "Clean text from URL and left only letters"
   ]
  },
  {
   "cell_type": "code",
   "execution_count": null,
   "metadata": {
    "id": "xkCEFRFZw5ab"
   },
   "outputs": [],
   "source": [
    "def clean_text(tweets):\n",
    "    patterns =[r\"http\\S+\",\n",
    "               r\"[^a-zA-Z]\",\n",
    "               r\"@eileenmfl\",\n",
    "               r\"wrongdejavu\",\n",
    "               r\"bestnaijamade\"]\n",
    "    for pattern in patterns:\n",
    "        tweets = re.sub(pattern, \" \", tweets)\n",
    "\n",
    "    tweets = re.sub(\"goooooooaaaaaal\",\"goal\", tweets)\n",
    "    tweets = re.sub(\"looooool\",\"lol\", tweets)\n",
    "    tweets = re.sub(\"cooool\",\"cool\", tweets)\n",
    "    tweets = re.sub(\"traumatise\",\"traumatize\", tweets)\n",
    "    tweets = re.sub(\"prebreak\",\"pre break\", tweets)\n",
    "    tweets = re.sub(\"worldnew\",\"world new\", tweets)\n",
    "    tweets = re.sub(\"nowplaye\",\"now play\", tweets)\n",
    "    tweets = re.sub(\"hwo\",\"who\", tweets)\n",
    "    tweets = re.sub(\"animalrescue\",\"animal rescue\", tweets)\n",
    "    tweets = re.sub(\"prophetmuhammad\",\"prophet muhammad\", tweets)\n",
    "    tweets = re.sub(\"viralspell\",\"viral spell\", tweets)\n",
    "    tweets = re.sub(\"usagov\",\"usa gov\", tweets)\n",
    "\n",
    "    return tweets.lower()"
   ]
  },
  {
   "cell_type": "code",
   "execution_count": null,
   "metadata": {
    "id": "GXjTNG4pw6SB"
   },
   "outputs": [],
   "source": [
    "df_train['text'] = df_train['text'].apply(clean_text)\n",
    "df_test['text'] = df_test['text'].apply(clean_text)"
   ]
  },
  {
   "cell_type": "markdown",
   "metadata": {
    "id": "cuhZIwCF1hqH"
   },
   "source": [
    "Remove stop word"
   ]
  },
  {
   "cell_type": "code",
   "execution_count": null,
   "metadata": {
    "id": "eCGgcIn5xBdq"
   },
   "outputs": [],
   "source": [
    "# Disable the useless pipelines led to decrease the run time of function \"lemmatization\" more than 20 times\n",
    "\n",
    "nlp = spacy.load(\"en_core_web_sm\", disable=[\"tagger\", \"parser\", \"ner\", \"tok2vec\", \"scores\", \"attribute_ruler\"])\n",
    "\n",
    "def remove_stopwords(tweets):\n",
    "    tweets = ' '.join([word for word in tweets.split()\n",
    "                       if word not in nlp.Defaults.stop_words and len(word) > 2])\n",
    "    return tweets"
   ]
  },
  {
   "cell_type": "code",
   "execution_count": null,
   "metadata": {
    "id": "WNTyLZ-4xB-g"
   },
   "outputs": [],
   "source": [
    "df_train['text'] = df_train['text'].apply(remove_stopwords)\n",
    "df_test['text'] = df_test['text'].apply(remove_stopwords)"
   ]
  },
  {
   "cell_type": "markdown",
   "metadata": {
    "id": "stdtLTwU1k0C"
   },
   "source": [
    "Make lemmatization"
   ]
  },
  {
   "cell_type": "code",
   "execution_count": null,
   "metadata": {
    "id": "_0rz4zvKNUxL"
   },
   "outputs": [],
   "source": [
    "nlp = spacy.load(\"en_core_web_sm\", disable=[\"parser\", \"ner\", \"scores\"])\n",
    "\n",
    "def lemmatization(tweets):\n",
    "    doc = nlp(tweets)\n",
    "    tweets = [token.lemma_ for token in doc]\n",
    "    return tweets"
   ]
  },
  {
   "cell_type": "code",
   "execution_count": null,
   "metadata": {
    "id": "HGC1koOANYKF"
   },
   "outputs": [],
   "source": [
    "df_train['text'] = df_train['text'].apply(lemmatization)\n",
    "df_test['text'] = df_test['text'].apply(lemmatization)"
   ]
  },
  {
   "cell_type": "markdown",
   "metadata": {
    "id": "g2NlaJpMM0g3"
   },
   "source": [
    "## Most popular words in disaster and not disaster tweets"
   ]
  },
  {
   "cell_type": "code",
   "execution_count": null,
   "metadata": {
    "colab": {
     "base_uri": "https://localhost:8080/",
     "height": 567
    },
    "id": "dJbJcABEsK_3",
    "outputId": "1aaabdd2-4740-4e4b-dead-d96590971fda"
   },
   "outputs": [
    {
     "data": {
      "image/png": "[encoded data removed]",
      "text/plain": [
       "<Figure size 1500x500 with 2 Axes>"
      ]
     },
     "metadata": {
      "needs_background": "light"
     },
     "output_type": "display_data"
    }
   ],
   "source": [
    "# Count words in both classes\n",
    "\n",
    "disaster_full_text = []\n",
    "not_disaster_full_text = []\n",
    "df_train[df_train['target']==0]['text'].apply(lambda x: not_disaster_full_text.append(x))\n",
    "df_train[df_train['target']==1]['text'].apply(lambda x: disaster_full_text.append(x))\n",
    "\n",
    "not_dis_word_qty = Counter([word for sentence in not_disaster_full_text for word in sentence])\n",
    "dis_word_qty = Counter([word for sentence in disaster_full_text for word in sentence])\n",
    "\n",
    "# Plot barplots\n",
    "\n",
    "fig, axes = plt.subplots(1, 2, figsize=(12, 4), dpi=125)\n",
    "fig.suptitle('Most popular word')\n",
    "\n",
    "sns.barplot(ax=axes[0],\n",
    "            x=[count[0] for count in not_dis_word_qty.most_common(20)],\n",
    "            y=[count[1] for count in not_dis_word_qty.most_common(20)])\n",
    "axes[0].set_title('Not disaster tweets')\n",
    "axes[0].tick_params(axis='x', rotation=90)\n",
    "axes[0].set_ylim(0, 300)\n",
    "\n",
    "\n",
    "sns.barplot(ax=axes[1],\n",
    "            x=[count[0] for count in dis_word_qty.most_common(20)],\n",
    "            y=[count[1] for count in dis_word_qty.most_common(20)])\n",
    "axes[1].set_title('Disaster tweets')\n",
    "axes[1].tick_params(axis='x', rotation=90)\n",
    "axes[1].set_ylim(0, 300);"
   ]
  },
  {
   "cell_type": "markdown",
   "metadata": {
    "id": "R_R7xRr39I-J"
   },
   "source": [
    "# Training and plotting functions"
   ]
  },
  {
   "cell_type": "code",
   "execution_count": null,
   "metadata": {
    "id": "pZayOkxT9w3u"
   },
   "outputs": [],
   "source": [
    "def acc_loss_plotting(train_losses, val_losses, train_acc, val_acc):\n",
    "    plt.figure(figsize=(8, 4), dpi=100)\n",
    "    plt.subplot(1, 2, 1)\n",
    "    plt.plot(train_losses, label='train loss')\n",
    "    plt.plot(val_losses, label='val loss')\n",
    "    plt.title('Losses')\n",
    "    plt.legend()\n",
    "\n",
    "    plt.subplot(1, 2, 2)\n",
    "    plt.plot(train_acc, label='train accuracy')\n",
    "    plt.plot(val_acc, label='val accuracy')\n",
    "    plt.title('Accuracy')\n",
    "    plt.show()"
   ]
  },
  {
   "cell_type": "code",
   "execution_count": null,
   "metadata": {
    "id": "AE9UScM1JRs-"
   },
   "outputs": [],
   "source": [
    "def training(device, model, epochs, optimizer, loss_function, train_loader, valid_loader, early_stopping=False, predict=False):\n",
    "    patient = 2\n",
    "    trigger_times=0\n",
    "\n",
    "    train_losses = []\n",
    "    val_losses = []\n",
    "\n",
    "    train_acc = []\n",
    "    val_acc = []\n",
    "\n",
    "    for epoch in range(epochs):\n",
    "\n",
    "        trn_corr = 0\n",
    "\n",
    "        for b, (data, label) in enumerate(train_loader):\n",
    "            data = data.to(device)\n",
    "            label = label.to(device)\n",
    "\n",
    "            y_pred = model(data)\n",
    "\n",
    "            loss = criterion(y_pred, label)\n",
    "            optimizer.zero_grad()\n",
    "            loss.backward()\n",
    "            optimizer.step()\n",
    "\n",
    "            prediction = torch.round(y_pred)\n",
    "            trn_corr += (prediction == label).sum()\n",
    "\n",
    "        train_losses.append(loss.to('cpu').detach().item())\n",
    "\n",
    "        if not predict:\n",
    "            # Calculate loss and accuracy for validation data\n",
    "            val_corr = 0\n",
    "            with torch.no_grad():\n",
    "                for data, label in valid_loader:\n",
    "                    data = data.to(device)  \n",
    "                    label = label.to(device)\n",
    "\n",
    "                    y_pred = model(data)\n",
    "                    \n",
    "                    val_loss = criterion(y_pred, label)\n",
    "            \n",
    "                    prediction = torch.round(y_pred)\n",
    "                    val_corr += (prediction == label).sum()\n",
    "\n",
    "            val_losses.append(val_loss.to('cpu').detach().item())\n",
    "\n",
    "\n",
    "            train_acc.append(trn_corr.to('cpu').detach().item() / len(train_dataset)*100)\n",
    "            val_acc.append(val_corr.to('cpu').detach().item() / len(val_dataset)*100)\n",
    "\n",
    "            if epoch % 5 == 0:\n",
    "                print(f\"Epoch: {epoch:{3}} \\\n",
    "                train_loss: {loss.item():.4f} \\\n",
    "                val_loss: {val_loss.item():.4f} \\\n",
    "                train accuracy: {train_acc[-1]:.2f} % \\\n",
    "                val accuracy: {val_acc[-1]:.2f} %\")\n",
    "\n",
    "            # Early stopping\n",
    "            if epoch > (patient+1):\n",
    "                if (val_losses[-1] > val_losses[-2]) and early_stopping:\n",
    "                    trigger_times += 1\n",
    "\n",
    "                    if trigger_times >= patient:\n",
    "                        print(f'Early stopping! Epoch = {epoch}')\n",
    "                        \n",
    "                        acc_loss_plotting(train_losses, val_losses, train_acc, val_acc)\n",
    "\n",
    "                        return model\n",
    "                    \n",
    "                else:\n",
    "                    trigger_times = 0\n",
    "    if not predict:\n",
    "        acc_loss_plotting(train_losses, val_losses, train_acc, val_acc)\n",
    "    return model"
   ]
  },
  {
   "cell_type": "markdown",
   "metadata": {
    "id": "T8Gr9sEhRuCV"
   },
   "source": [
    "# Two nn.Linear model (Score: 0.79589)"
   ]
  },
  {
   "cell_type": "code",
   "execution_count": null,
   "metadata": {
    "colab": {
     "base_uri": "https://localhost:8080/"
    },
    "id": "QO7l6qY2RvkS",
    "outputId": "81638194-5250-4214-a151-bd2388bd0929"
   },
   "outputs": [
    {
     "name": "stdout",
     "output_type": "stream",
     "text": [
      "cuda\n"
     ]
    }
   ],
   "source": [
    "device = torch.device(\"cuda\" if torch.cuda.is_available() else \"cpu\")\n",
    "print(device)"
   ]
  },
  {
   "cell_type": "code",
   "execution_count": null,
   "metadata": {
    "id": "kUFp7rziRxWr"
   },
   "outputs": [],
   "source": [
    "# Tokenization and vocabulary creation\n",
    "tokenizer = get_tokenizer('basic_english')\n",
    "def yield_tokens(data):\n",
    "    for text in data:\n",
    "        for word in text:\n",
    "            yield tokenizer(word)\n",
    "\n",
    "vocab = build_vocab_from_iterator(yield_tokens(df_train['text']), specials=['<unk>'], min_freq=2)\n",
    "vocab.set_default_index(vocab['<unk>'])"
   ]
  },
  {
   "cell_type": "code",
   "execution_count": null,
   "metadata": {
    "colab": {
     "base_uri": "https://localhost:8080/"
    },
    "id": "oZvUMXRe6C9-",
    "outputId": "9d311f8c-da09-4ff6-e6f6-719f1ea822e8"
   },
   "outputs": [
    {
     "name": "stdout",
     "output_type": "stream",
     "text": [
      "Vocabulary length = 5168\n"
     ]
    }
   ],
   "source": [
    "print(f\"Vocabulary length = {len(vocab)}\")"
   ]
  },
  {
   "cell_type": "code",
   "execution_count": null,
   "metadata": {
    "colab": {
     "base_uri": "https://localhost:8080/"
    },
    "id": "x0BSeB4z5Jwo",
    "outputId": "27fb72f2-64cc-477f-c72a-6a9ae88efcb1"
   },
   "outputs": [
    {
     "name": "stdout",
     "output_type": "stream",
     "text": [
      "[182, 2, 52]\n"
     ]
    }
   ],
   "source": [
    "# Translating text into tokens\n",
    "print(vocab(['earthquake', 'fire', 'nuclear']))"
   ]
  },
  {
   "cell_type": "code",
   "execution_count": null,
   "metadata": {
    "id": "vUiZB-kU5KCy"
   },
   "outputs": [],
   "source": [
    "class TweetDataset(Dataset):\n",
    "    \"\"\"\n",
    "    Args:\n",
    "        tweets: tweets samples.\n",
    "        labels: target.\n",
    "        vocab_size (int): Size of vocabulary.\n",
    "    \"\"\"\n",
    "    \n",
    "    def __init__(self, tweets, labels, vocab_size):\n",
    "        self.tweets = tweets.tolist()\n",
    "        self.labels = torch.tensor(labels.values, dtype=torch.float).unsqueeze(1)\n",
    "        self.vocab_size = vocab_size\n",
    "\n",
    "    def __len__(self):\n",
    "        return len(self.tweets)\n",
    "\n",
    "    def __getitem__(self, idx):\n",
    "        data = torch.zeros(self.vocab_size)\n",
    "        # print(data)\n",
    "        data[vocab(self.tweets[idx])] = 1.0\n",
    "\n",
    "        return data, self.labels[idx]"
   ]
  },
  {
   "cell_type": "code",
   "execution_count": null,
   "metadata": {
    "id": "FGhF-fRf7CUc"
   },
   "outputs": [],
   "source": [
    "X_train, X_val, y_train, y_val = train_test_split(df_train['text'],\n",
    "                                                    df_train['target'],\n",
    "                                                    train_size=0.7,\n",
    "                                                  random_state=42)\n",
    "\n",
    "train_dataset = TweetDataset(X_train, \n",
    "                         y_train,\n",
    "                         vocab_size=len(vocab))\n",
    "\n",
    "val_dataset = TweetDataset(X_val,\n",
    "                        y_val,\n",
    "                        vocab_size=len(vocab))\n",
    "\n",
    "full_dataset = TweetDataset(df_train['text'],\n",
    "                        df_train['target'],\n",
    "                        vocab_size=len(vocab))"
   ]
  },
  {
   "cell_type": "code",
   "execution_count": null,
   "metadata": {
    "id": "gnH_0Xsu7vnS"
   },
   "outputs": [],
   "source": [
    "train_dl = DataLoader(dataset = train_dataset,\n",
    "                      batch_size=3000,\n",
    "                      shuffle=True)\n",
    "\n",
    "val_dl = DataLoader(dataset=val_dataset,\n",
    "                     batch_size=3000,\n",
    "                     shuffle=False)\n",
    "\n",
    "full_dl = DataLoader(dataset=full_dataset,\n",
    "                     batch_size=3000,\n",
    "                     shuffle=True)"
   ]
  },
  {
   "cell_type": "code",
   "execution_count": null,
   "metadata": {
    "id": "U2X5W70W7zFr"
   },
   "outputs": [],
   "source": [
    "class ANNmodel(nn.Module):\n",
    "\n",
    "    def __init__(self, vocab_size, out_size):\n",
    "\n",
    "        super().__init__()\n",
    "\n",
    "        self.fc1 = nn.Linear(vocab_size, 5000)\n",
    "        self.fc2 = nn.Linear(5000, out_size)\n",
    "\n",
    "    def forward(self, X):\n",
    "        X = F.relu(self.fc1(X))\n",
    "        X = self.fc2(X)\n",
    "\n",
    "        return torch.sigmoid(X)"
   ]
  },
  {
   "cell_type": "code",
   "execution_count": null,
   "metadata": {
    "id": "kWtq0SJdJLx9"
   },
   "outputs": [],
   "source": [
    "model = ANNmodel(len(vocab), out_size=1).to(device)\n",
    "criterion = nn.BCELoss()\n",
    "optimizer = torch.optim.Adam(model.parameters(), lr=0.0001)"
   ]
  },
  {
   "cell_type": "code",
   "execution_count": null,
   "metadata": {
    "colab": {
     "base_uri": "https://localhost:8080/",
     "height": 611
    },
    "id": "VOhMN5rIn_ty",
    "outputId": "03759d96-4803-4bab-f9a1-64d720499866"
   },
   "outputs": [
    {
     "name": "stdout",
     "output_type": "stream",
     "text": [
      "Epoch:   0                 train_loss: 0.6902                 val_loss: 0.6877                 train accuracy: 58.75 %                 val accuracy: 65.94 %\n",
      "Epoch:   5                 train_loss: 0.6572                 val_loss: 0.6644                 train accuracy: 76.36 %                 val accuracy: 72.81 %\n",
      "Epoch:  10                 train_loss: 0.6209                 val_loss: 0.6385                 train accuracy: 81.48 %                 val accuracy: 76.18 %\n",
      "Epoch:  15                 train_loss: 0.5756                 val_loss: 0.6075                 train accuracy: 84.76 %                 val accuracy: 77.93 %\n",
      "Epoch:  20                 train_loss: 0.5230                 val_loss: 0.5722                 train accuracy: 86.47 %                 val accuracy: 79.29 %\n",
      "Epoch:  25                 train_loss: 0.4693                 val_loss: 0.5364                 train accuracy: 87.77 %                 val accuracy: 80.17 %\n",
      "Epoch:  30                 train_loss: 0.4184                 val_loss: 0.5045                 train accuracy: 88.65 %                 val accuracy: 80.56 %\n",
      "Epoch:  35                 train_loss: 0.3762                 val_loss: 0.4802                 train accuracy: 89.42 %                 val accuracy: 80.52 %\n",
      "Epoch:  40                 train_loss: 0.3319                 val_loss: 0.4640                 train accuracy: 90.13 %                 val accuracy: 80.60 %\n",
      "Epoch:  45                 train_loss: 0.3032                 val_loss: 0.4550                 train accuracy: 91.03 %                 val accuracy: 80.65 %\n",
      "Epoch:  50                 train_loss: 0.2662                 val_loss: 0.4511                 train accuracy: 91.74 %                 val accuracy: 80.60 %\n",
      "Epoch:  55                 train_loss: 0.2401                 val_loss: 0.4508                 train accuracy: 92.57 %                 val accuracy: 80.47 %\n",
      "Early stopping! Epoch = 55\n"
     ]
    },
    {
     "data": {
      "image/png": "[encoded data removed]",
      "text/plain": [
       "<Figure size 800x400 with 2 Axes>"
      ]
     },
     "metadata": {
      "needs_background": "light"
     },
     "output_type": "display_data"
    }
   ],
   "source": [
    "model = training(device=device,\n",
    "                 model=model,\n",
    "                 epochs=100,\n",
    "                 optimizer=optimizer,\n",
    "                 loss_function=criterion,\n",
    "                 train_loader=train_dl,\n",
    "                 valid_loader=val_dl,\n",
    "                 early_stopping=True)"
   ]
  },
  {
   "cell_type": "code",
   "execution_count": null,
   "metadata": {
    "colab": {
     "base_uri": "https://localhost:8080/"
    },
    "id": "wsnI_CflnyNb",
    "outputId": "c8db2c79-992c-4308-ce0b-899826635772"
   },
   "outputs": [
    {
     "name": "stdout",
     "output_type": "stream",
     "text": [
      "Model training complete!\n",
      "Prediction complete!\n"
     ]
    }
   ],
   "source": [
    "# Train model on full data\n",
    "model = ANNmodel(len(vocab), out_size=1).to(device)\n",
    "criterion = nn.BCELoss()\n",
    "optimizer = torch.optim.Adam(model.parameters(), lr=0.0001)\n",
    "\n",
    "model = training(device=device, \n",
    "                 model=model, \n",
    "                 epochs=50, \n",
    "                 optimizer=optimizer, \n",
    "                 loss_function=criterion, \n",
    "                 train_loader=full_dl, \n",
    "                 valid_loader=val_dl, \n",
    "                 early_stopping=False, \n",
    "                 predict=True)\n",
    "print('Model training complete!')\n",
    "\n",
    "# Prepare data from test.csv\n",
    "def tweet_to_tensor(tweet):\n",
    "    data = np.zeros(len(vocab))\n",
    "    data[vocab(tweet)] = 1.0\n",
    "    return torch.Tensor(data)\n",
    "\n",
    "tensor = df_test['text'].apply(tweet_to_tensor).values\n",
    "\n",
    "# Prediction\n",
    "predictions = []\n",
    "with torch.no_grad():\n",
    "    for data in tensor:\n",
    "        data = data.to(device)\n",
    "        prediction = model(data)\n",
    "        predictions.append(round(prediction.item()))\n",
    "\n",
    "df_predict = pd.concat([df_test['id'], pd.DataFrame(predictions, dtype='int', columns=['target'])], axis=1)\n",
    "df_predict.to_csv('linear_model_submission.csv', index=False)\n",
    "print(\"Prediction complete!\")"
   ]
  },
  {
   "cell_type": "markdown",
   "metadata": {
    "id": "zLVMT8clJASz"
   },
   "source": [
    "# Embedding+LSTM model (Score: 0.76034)"
   ]
  },
  {
   "cell_type": "code",
   "execution_count": null,
   "metadata": {
    "colab": {
     "base_uri": "https://localhost:8080/"
    },
    "id": "RTcZy_WGTZw5",
    "outputId": "7514f486-99c5-4466-c4af-8c0bc53c11a3"
   },
   "outputs": [
    {
     "data": {
      "text/plain": [
       "21"
      ]
     },
     "execution_count": 91,
     "metadata": {},
     "output_type": "execute_result"
    }
   ],
   "source": [
    "max_seq_len = df_train['text'].str.len().max()\n",
    "max_seq_len"
   ]
  },
  {
   "cell_type": "code",
   "execution_count": null,
   "metadata": {
    "id": "OyZXf_gjfbe_"
   },
   "outputs": [],
   "source": [
    "class TweetDataset(Dataset):\n",
    "    \"\"\"\n",
    "    Args:\n",
    "        tweets: Tweets samples.\n",
    "        labels: target.\n",
    "        vocab_size (int): Size of vocabulary.\n",
    "    \"\"\"\n",
    "    \n",
    "    def __init__(self, tweets, labels, vocab_size, max_seq_len):\n",
    "        self.tweets = list(map(lambda x: np.pad(x, (0, max_seq_len-len(x))), tweets.apply(lambda x: vocab(x))))\n",
    "        self.labels = torch.tensor(labels.values, dtype=torch.float).unsqueeze(1)\n",
    "        self.vocab_size = vocab_size\n",
    "\n",
    "    def __len__(self):\n",
    "        return len(self.tweets)\n",
    "\n",
    "    def __getitem__(self, idx):\n",
    "        data = torch.LongTensor(self.tweets[idx])\n",
    "\n",
    "        return data, self.labels[idx]"
   ]
  },
  {
   "cell_type": "code",
   "execution_count": null,
   "metadata": {
    "id": "_fnn8LjvepBg"
   },
   "outputs": [],
   "source": [
    "X_train, X_val, y_train, y_val = train_test_split(df_train['text'],\n",
    "                                                    df_train['target'],\n",
    "                                                    train_size=0.7,\n",
    "                                                  random_state=42)\n",
    "\n",
    "train_dataset = TweetDataset(X_train,\n",
    "                         y_train,\n",
    "                         vocab_size=len(vocab),\n",
    "                         max_seq_len=max_seq_len)\n",
    "\n",
    "val_dataset = TweetDataset(X_val,\n",
    "                        y_val,\n",
    "                        vocab_size=len(vocab),\n",
    "                        max_seq_len=max_seq_len)\n",
    "\n",
    "full_dataset = TweetDataset(df_train['text'],\n",
    "                           df_train['target'],\n",
    "                           vocab_size=len(vocab),\n",
    "                           max_seq_len=max_seq_len)"
   ]
  },
  {
   "cell_type": "code",
   "execution_count": null,
   "metadata": {
    "id": "3evQIGU6ep1q"
   },
   "outputs": [],
   "source": [
    "train_dl = DataLoader(dataset = train_dataset,\n",
    "                      batch_size=2000,\n",
    "                      shuffle=True)\n",
    "\n",
    "val_dl = DataLoader(dataset=val_dataset,\n",
    "                     batch_size=2000,\n",
    "                    shuffle=False)\n",
    "\n",
    "val_dl = DataLoader(dataset=val_dataset,\n",
    "                     batch_size=2000)"
   ]
  },
  {
   "cell_type": "code",
   "execution_count": null,
   "metadata": {
    "id": "8P7h8lATer5E"
   },
   "outputs": [],
   "source": [
    "class LSTMmodel(nn.Module):\n",
    "\n",
    "    def __init__(self, vocab_size, emb_dim, out_size):\n",
    "\n",
    "        super().__init__()\n",
    "\n",
    "        self.emb = nn.Embedding(vocab_size, emb_dim)\n",
    "        self.lstm = nn.LSTM(emb_dim, 50, num_layers=1)\n",
    "        self.fc1 = nn.LazyLinear(1)\n",
    "        self.fc2 = nn.LazyLinear(1)\n",
    "\n",
    "    def forward(self, X):\n",
    "        X = self.emb(X).sum(dim=1)\n",
    "        X, (h_n, c_n) = self.lstm(X)\n",
    "        X = self.fc1(X)\n",
    "\n",
    "        return torch.sigmoid(X)"
   ]
  },
  {
   "cell_type": "code",
   "execution_count": null,
   "metadata": {
    "id": "Pj7TouEne00h"
   },
   "outputs": [],
   "source": [
    "model = LSTMmodel(vocab_size=len(vocab), emb_dim=20, out_size=1).to('cpu')\n",
    "criterion = nn.BCELoss()\n",
    "optimizer = torch.optim.Adam(model.parameters(), lr=0.001)"
   ]
  },
  {
   "cell_type": "code",
   "execution_count": null,
   "metadata": {
    "colab": {
     "base_uri": "https://localhost:8080/",
     "height": 645
    },
    "id": "d34nTwl34ZOS",
    "outputId": "bc01e3c7-13ea-4ea9-a6ac-37eb27945b99"
   },
   "outputs": [
    {
     "name": "stdout",
     "output_type": "stream",
     "text": [
      "Epoch:   0                 train_loss: 0.6816                 val_loss: 0.6772                 train accuracy: 57.14 %                 val accuracy: 57.75 %\n",
      "Epoch:   5                 train_loss: 0.6617                 val_loss: 0.6685                 train accuracy: 59.39 %                 val accuracy: 59.59 %\n",
      "Epoch:  10                 train_loss: 0.6490                 val_loss: 0.6575                 train accuracy: 62.92 %                 val accuracy: 62.17 %\n",
      "Epoch:  15                 train_loss: 0.6212                 val_loss: 0.6448                 train accuracy: 65.79 %                 val accuracy: 63.66 %\n",
      "Epoch:  20                 train_loss: 0.5983                 val_loss: 0.6301                 train accuracy: 68.34 %                 val accuracy: 65.11 %\n",
      "Epoch:  25                 train_loss: 0.5829                 val_loss: 0.6120                 train accuracy: 70.82 %                 val accuracy: 66.37 %\n",
      "Epoch:  30                 train_loss: 0.5469                 val_loss: 0.5972                 train accuracy: 72.38 %                 val accuracy: 68.35 %\n",
      "Epoch:  35                 train_loss: 0.5351                 val_loss: 0.5828                 train accuracy: 74.54 %                 val accuracy: 69.75 %\n",
      "Epoch:  40                 train_loss: 0.5060                 val_loss: 0.5717                 train accuracy: 76.39 %                 val accuracy: 71.32 %\n",
      "Epoch:  45                 train_loss: 0.4552                 val_loss: 0.5625                 train accuracy: 78.44 %                 val accuracy: 72.46 %\n",
      "Epoch:  50                 train_loss: 0.4207                 val_loss: 0.5578                 train accuracy: 80.39 %                 val accuracy: 74.08 %\n",
      "Epoch:  55                 train_loss: 0.3996                 val_loss: 0.5554                 train accuracy: 82.00 %                 val accuracy: 74.39 %\n",
      "Epoch:  60                 train_loss: 0.3819                 val_loss: 0.5577                 train accuracy: 83.11 %                 val accuracy: 75.39 %\n",
      "Epoch:  65                 train_loss: 0.3872                 val_loss: 0.5613                 train accuracy: 84.33 %                 val accuracy: 76.01 %\n",
      "Early stopping! Epoch = 68\n"
     ]
    },
    {
     "data": {
      "image/png": "[encoded data removed]",
      "text/plain": [
       "<Figure size 800x400 with 2 Axes>"
      ]
     },
     "metadata": {
      "needs_background": "light"
     },
     "output_type": "display_data"
    }
   ],
   "source": [
    "model = training(device='cpu',\n",
    "                 model=model,\n",
    "                 epochs=100,\n",
    "                 optimizer=optimizer,\n",
    "                 loss_function=criterion,\n",
    "                 train_loader=train_dl,\n",
    "                 valid_loader=val_dl,\n",
    "                 early_stopping=True)"
   ]
  },
  {
   "cell_type": "code",
   "execution_count": null,
   "metadata": {
    "colab": {
     "base_uri": "https://localhost:8080/"
    },
    "id": "n3il8adclmhU",
    "outputId": "be534995-3974-4faa-d64e-66697b2272ec"
   },
   "outputs": [
    {
     "name": "stdout",
     "output_type": "stream",
     "text": [
      "Model training complete!\n",
      "Prediction complete!\n"
     ]
    }
   ],
   "source": [
    "# Train model on full data\n",
    "model = LSTMmodel(vocab_size=len(vocab), emb_dim=20, out_size=1).to('cpu')\n",
    "criterion = nn.BCELoss()\n",
    "optimizer = torch.optim.Adam(model.parameters(), lr=0.001)\n",
    "\n",
    "model = training(device='cpu',\n",
    "                 model=model,\n",
    "                 epochs=70,\n",
    "                 optimizer=optimizer,\n",
    "                 loss_function=criterion,\n",
    "                 train_loader=train_dl,\n",
    "                 valid_loader=val_dl,\n",
    "                 early_stopping=False,\n",
    "                 predict=True)\n",
    "print('Model training complete!')\n",
    "\n",
    "# Prepare data from test.csv\n",
    "def tweet_to_tensor(tweet):\n",
    "    return torch.LongTensor(list(map(lambda x: np.pad(x, (0, 21-len(x))), tweet.apply(lambda x: vocab(x)))))\n",
    "\n",
    "tensor = tweet_to_tensor(df_test['text'])\n",
    "\n",
    "# Prediction\n",
    "with torch.no_grad():\n",
    "    y_pred2 = model(tensor)\n",
    "prediction = np.round(y_pred2)\n",
    "\n",
    "df_predict = pd.concat([df_test['id'], pd.DataFrame(prediction, dtype='int', columns=['target'])], axis=1)\n",
    "df_predict.to_csv('LSTM_model_submission.csv', index=False)\n",
    "print(\"Prediction complete!\")"
   ]
  },
  {
   "cell_type": "markdown",
   "metadata": {
    "id": "khZzSxy5Jhfv"
   },
   "source": [
    "# Glove embedding model (Score: 0.76800)"
   ]
  },
  {
   "cell_type": "code",
   "execution_count": null,
   "metadata": {
    "id": "hCvvQFw8nXAr"
   },
   "outputs": [],
   "source": [
    "class PreTrainedEmbeddings(object):\n",
    "    \n",
    "    def __init__(self, word_to_index, word_vectors):\n",
    "        \"\"\"\n",
    "        Args:\n",
    "            word_to_index (dict): mapping from word to integers\n",
    "            word_vectors (list of numpy arrays)\n",
    "        \"\"\"\n",
    "        self.word_to_index = word_to_index\n",
    "        self.word_vectors = word_vectors\n",
    "        self.index_to_word = {v: k for k, v in self.word_to_index.items()}\n",
    "\n",
    "        self.index = AnnoyIndex(len(word_vectors[0]), metric='euclidean')\n",
    "        print(\"Building Index!\")\n",
    "        for _, i in self.word_to_index.items():\n",
    "            self.index.add_item(i, self.word_vectors[i])\n",
    "        self.index.build(50)\n",
    "        print(\"Finished!\")\n",
    "        \n",
    "    @classmethod\n",
    "    def from_embeddings_file(cls, embedding_file):\n",
    "        \"\"\"Instantiate from pre-trained vector file.\n",
    "        Args:\n",
    "            embedding_file (str): file location\n",
    "        Returns: \n",
    "            instance of PretrainedEmbeddings\n",
    "        \"\"\"\n",
    "        word_to_index = {}\n",
    "        word_vectors = []\n",
    "\n",
    "        with open(embedding_file) as fp:\n",
    "            for line in fp.readlines():\n",
    "                line = line.split(\" \")\n",
    "                word = line[0]\n",
    "                vec = np.array([float(x) for x in line[1:]])\n",
    "                \n",
    "                word_to_index[word] = len(word_to_index)\n",
    "                word_vectors.append(vec)\n",
    "                \n",
    "        return cls(word_to_index, word_vectors)\n",
    "    \n",
    "    def get_embedding(self, word):\n",
    "        \"\"\"\n",
    "        Args:\n",
    "            word (str)\n",
    "        Returns\n",
    "            an embedding (numpy.ndarray)\n",
    "        \"\"\"\n",
    "        return self.word_vectors[self.word_to_index[word]]"
   ]
  },
  {
   "cell_type": "code",
   "execution_count": null,
   "metadata": {
    "colab": {
     "base_uri": "https://localhost:8080/"
    },
    "id": "0DKUD37Z3gUk",
    "outputId": "f1303c36-b6d3-4119-ae03-f4652f5d13fe"
   },
   "outputs": [
    {
     "name": "stdout",
     "output_type": "stream",
     "text": [
      "Building Index!\n",
      "Finished!\n"
     ]
    }
   ],
   "source": [
    "embeddings = PreTrainedEmbeddings.from_embeddings_file('glove.6B.100d.txt')"
   ]
  },
  {
   "cell_type": "code",
   "execution_count": null,
   "metadata": {
    "id": "sD8zcqIj_3QJ"
   },
   "outputs": [],
   "source": [
    "class TweetDataset(Dataset):\n",
    "    \"\"\"\n",
    "    Args:\n",
    "        tweets: Tweets samples.\n",
    "        labels: target.\n",
    "    \"\"\"\n",
    "    \n",
    "    def __init__(self, tweet, labels):\n",
    "        self.tweet = tweet.tolist()\n",
    "        self.labels = torch.tensor(labels.values, dtype=torch.float).unsqueeze(1)\n",
    "\n",
    "    def __len__(self):\n",
    "        return len(self.tweet)\n",
    "\n",
    "    def __getitem__(self, idx):\n",
    "        emb = [embeddings.get_embedding(x) for x in self.tweet[idx] if x in embeddings.word_to_index]\n",
    "        data_zeros = np.zeros((21,100))\n",
    "        if len(emb) > 0:\n",
    "            data_zeros[:len(emb), :] = emb\n",
    "        data = torch.Tensor(data_zeros)\n",
    "        return data, self.labels[idx]"
   ]
  },
  {
   "cell_type": "code",
   "execution_count": null,
   "metadata": {
    "id": "Kvj2_y4KBDDS"
   },
   "outputs": [],
   "source": [
    "X_train, X_val, y_train, y_val = train_test_split(df_train['text'],\n",
    "                                                    df_train['target'],\n",
    "                                                    train_size=0.7,\n",
    "                                                    random_state=42)\n",
    "\n",
    "train_dataset = TweetDataset(X_train, y_train)\n",
    "\n",
    "val_dataset = TweetDataset(X_val, y_val)\n",
    "\n",
    "full_dataset = TweetDataset(df_train['text'], df_train['target'])"
   ]
  },
  {
   "cell_type": "code",
   "execution_count": null,
   "metadata": {
    "id": "bBs168YuBKN0"
   },
   "outputs": [],
   "source": [
    "train_dl = DataLoader(dataset = train_dataset,\n",
    "                      batch_size=3000,\n",
    "                      shuffle=True)\n",
    "\n",
    "val_dl = DataLoader(dataset=val_dataset,\n",
    "                     batch_size=3000,\n",
    "                    shuffle=False)\n",
    "\n",
    "full_dl = DataLoader(dataset=full_dataset,\n",
    "                     batch_size=3000,\n",
    "                     shuffle=False)"
   ]
  },
  {
   "cell_type": "code",
   "execution_count": null,
   "metadata": {
    "id": "t83iCrLkCY0V"
   },
   "outputs": [],
   "source": [
    "class LSTMmodel(nn.Module):\n",
    "\n",
    "    def __init__(self, emb_dim, out_size):\n",
    "\n",
    "        super().__init__()\n",
    "\n",
    "        self.lstm = nn.LSTM(emb_dim, 50, num_layers=1, bidirectional=True)\n",
    "        self.fc1 = nn.LazyLinear(1)\n",
    "        self.fc2 = nn.LazyLinear(1)\n",
    "\n",
    "    def forward(self, X):\n",
    "        X, (h_n, c_n) = self.lstm(X)\n",
    "        X = self.fc1(X).sum(1)\n",
    "\n",
    "        return torch.sigmoid(X)"
   ]
  },
  {
   "cell_type": "code",
   "execution_count": null,
   "metadata": {
    "id": "dZsxHQrgHTl_"
   },
   "outputs": [],
   "source": [
    "model = LSTMmodel(emb_dim=100, out_size=1).to('cpu')\n",
    "criterion = nn.BCELoss()\n",
    "optimizer = torch.optim.Adam(model.parameters(), lr=0.0001)"
   ]
  },
  {
   "cell_type": "code",
   "execution_count": null,
   "metadata": {
    "colab": {
     "base_uri": "https://localhost:8080/",
     "height": 1000
    },
    "id": "MHRjWbLWqtdY",
    "outputId": "93ae2ed5-e6ba-48c8-f60a-96634f0e9256"
   },
   "outputs": [
    {
     "name": "stdout",
     "output_type": "stream",
     "text": [
      "Epoch:   0                 train_loss: 0.7344                 val_loss: 0.7258                 train accuracy: 56.75 %                 val accuracy: 57.71 %\n",
      "Epoch:   5                 train_loss: 0.6819                 val_loss: 0.6796                 train accuracy: 57.03 %                 val accuracy: 57.92 %\n",
      "Epoch:  10                 train_loss: 0.6746                 val_loss: 0.6717                 train accuracy: 61.31 %                 val accuracy: 60.46 %\n",
      "Epoch:  15                 train_loss: 0.6554                 val_loss: 0.6546                 train accuracy: 63.11 %                 val accuracy: 64.49 %\n",
      "Epoch:  20                 train_loss: 0.6464                 val_loss: 0.6416                 train accuracy: 63.37 %                 val accuracy: 65.02 %\n",
      "Epoch:  25                 train_loss: 0.6301                 val_loss: 0.6298                 train accuracy: 66.75 %                 val accuracy: 68.56 %\n",
      "Epoch:  30                 train_loss: 0.6201                 val_loss: 0.6189                 train accuracy: 69.53 %                 val accuracy: 70.97 %\n",
      "Epoch:  35                 train_loss: 0.6164                 val_loss: 0.6081                 train accuracy: 70.29 %                 val accuracy: 72.24 %\n",
      "Epoch:  40                 train_loss: 0.6066                 val_loss: 0.5979                 train accuracy: 71.40 %                 val accuracy: 72.99 %\n",
      "Epoch:  45                 train_loss: 0.5912                 val_loss: 0.5885                 train accuracy: 72.40 %                 val accuracy: 74.21 %\n",
      "Epoch:  50                 train_loss: 0.5873                 val_loss: 0.5794                 train accuracy: 73.07 %                 val accuracy: 75.04 %\n",
      "Epoch:  55                 train_loss: 0.5692                 val_loss: 0.5709                 train accuracy: 73.43 %                 val accuracy: 75.48 %\n",
      "Epoch:  60                 train_loss: 0.5753                 val_loss: 0.5628                 train accuracy: 73.62 %                 val accuracy: 76.09 %\n",
      "Epoch:  65                 train_loss: 0.5642                 val_loss: 0.5553                 train accuracy: 74.67 %                 val accuracy: 76.44 %\n",
      "Epoch:  70                 train_loss: 0.5486                 val_loss: 0.5480                 train accuracy: 75.23 %                 val accuracy: 76.93 %\n",
      "Epoch:  75                 train_loss: 0.5430                 val_loss: 0.5412                 train accuracy: 74.89 %                 val accuracy: 77.15 %\n",
      "Epoch:  80                 train_loss: 0.5338                 val_loss: 0.5348                 train accuracy: 76.04 %                 val accuracy: 77.28 %\n",
      "Epoch:  85                 train_loss: 0.5308                 val_loss: 0.5287                 train accuracy: 75.46 %                 val accuracy: 77.76 %\n",
      "Epoch:  90                 train_loss: 0.5226                 val_loss: 0.5229                 train accuracy: 75.94 %                 val accuracy: 78.02 %\n",
      "Epoch:  95                 train_loss: 0.5362                 val_loss: 0.5175                 train accuracy: 76.06 %                 val accuracy: 78.20 %\n",
      "Epoch: 100                 train_loss: 0.5283                 val_loss: 0.5124                 train accuracy: 76.49 %                 val accuracy: 78.46 %\n",
      "Epoch: 105                 train_loss: 0.5181                 val_loss: 0.5076                 train accuracy: 76.92 %                 val accuracy: 78.55 %\n",
      "Epoch: 110                 train_loss: 0.5195                 val_loss: 0.5032                 train accuracy: 76.66 %                 val accuracy: 78.72 %\n",
      "Epoch: 115                 train_loss: 0.5171                 val_loss: 0.4989                 train accuracy: 76.64 %                 val accuracy: 78.98 %\n",
      "Epoch: 120                 train_loss: 0.5022                 val_loss: 0.4949                 train accuracy: 77.63 %                 val accuracy: 78.98 %\n",
      "Epoch: 125                 train_loss: 0.5066                 val_loss: 0.4910                 train accuracy: 77.26 %                 val accuracy: 79.07 %\n",
      "Epoch: 130                 train_loss: 0.4990                 val_loss: 0.4875                 train accuracy: 77.31 %                 val accuracy: 78.98 %\n",
      "Epoch: 135                 train_loss: 0.4948                 val_loss: 0.4841                 train accuracy: 77.52 %                 val accuracy: 79.16 %\n",
      "Epoch: 140                 train_loss: 0.4888                 val_loss: 0.4810                 train accuracy: 77.73 %                 val accuracy: 79.25 %\n",
      "Epoch: 145                 train_loss: 0.4881                 val_loss: 0.4780                 train accuracy: 77.59 %                 val accuracy: 79.33 %\n",
      "Epoch: 150                 train_loss: 0.4883                 val_loss: 0.4752                 train accuracy: 77.73 %                 val accuracy: 79.38 %\n",
      "Epoch: 155                 train_loss: 0.4875                 val_loss: 0.4726                 train accuracy: 78.10 %                 val accuracy: 79.47 %\n",
      "Epoch: 160                 train_loss: 0.4889                 val_loss: 0.4701                 train accuracy: 78.12 %                 val accuracy: 79.47 %\n",
      "Epoch: 165                 train_loss: 0.4805                 val_loss: 0.4678                 train accuracy: 78.14 %                 val accuracy: 79.60 %\n",
      "Epoch: 170                 train_loss: 0.4646                 val_loss: 0.4657                 train accuracy: 78.57 %                 val accuracy: 79.90 %\n",
      "Epoch: 175                 train_loss: 0.4768                 val_loss: 0.4635                 train accuracy: 78.34 %                 val accuracy: 80.12 %\n",
      "Epoch: 180                 train_loss: 0.4628                 val_loss: 0.4617                 train accuracy: 78.66 %                 val accuracy: 80.30 %\n",
      "Epoch: 185                 train_loss: 0.4673                 val_loss: 0.4600                 train accuracy: 78.66 %                 val accuracy: 80.30 %\n",
      "Epoch: 190                 train_loss: 0.4693                 val_loss: 0.4583                 train accuracy: 78.98 %                 val accuracy: 80.43 %\n",
      "Epoch: 195                 train_loss: 0.4665                 val_loss: 0.4569                 train accuracy: 78.66 %                 val accuracy: 80.56 %\n",
      "Epoch: 200                 train_loss: 0.4541                 val_loss: 0.4554                 train accuracy: 79.23 %                 val accuracy: 80.69 %\n",
      "Epoch: 205                 train_loss: 0.4524                 val_loss: 0.4541                 train accuracy: 79.06 %                 val accuracy: 80.74 %\n",
      "Epoch: 210                 train_loss: 0.4632                 val_loss: 0.4529                 train accuracy: 79.11 %                 val accuracy: 80.74 %\n",
      "Epoch: 215                 train_loss: 0.4588                 val_loss: 0.4518                 train accuracy: 79.28 %                 val accuracy: 80.65 %\n",
      "Epoch: 220                 train_loss: 0.4646                 val_loss: 0.4508                 train accuracy: 79.47 %                 val accuracy: 80.65 %\n",
      "Epoch: 225                 train_loss: 0.4519                 val_loss: 0.4498                 train accuracy: 79.11 %                 val accuracy: 80.56 %\n",
      "Epoch: 230                 train_loss: 0.4463                 val_loss: 0.4489                 train accuracy: 79.66 %                 val accuracy: 80.60 %\n",
      "Epoch: 235                 train_loss: 0.4589                 val_loss: 0.4481                 train accuracy: 79.68 %                 val accuracy: 80.65 %\n",
      "Epoch: 240                 train_loss: 0.4433                 val_loss: 0.4473                 train accuracy: 79.77 %                 val accuracy: 80.52 %\n",
      "Epoch: 245                 train_loss: 0.4545                 val_loss: 0.4467                 train accuracy: 79.92 %                 val accuracy: 80.87 %\n",
      "Epoch: 250                 train_loss: 0.4554                 val_loss: 0.4460                 train accuracy: 79.56 %                 val accuracy: 80.82 %\n",
      "Epoch: 255                 train_loss: 0.4497                 val_loss: 0.4454                 train accuracy: 79.94 %                 val accuracy: 80.82 %\n",
      "Epoch: 260                 train_loss: 0.4498                 val_loss: 0.4450                 train accuracy: 80.03 %                 val accuracy: 80.95 %\n",
      "Epoch: 265                 train_loss: 0.4613                 val_loss: 0.4445                 train accuracy: 79.92 %                 val accuracy: 80.91 %\n",
      "Epoch: 270                 train_loss: 0.4621                 val_loss: 0.4440                 train accuracy: 80.15 %                 val accuracy: 80.91 %\n",
      "Epoch: 275                 train_loss: 0.4391                 val_loss: 0.4435                 train accuracy: 80.09 %                 val accuracy: 81.00 %\n",
      "Epoch: 280                 train_loss: 0.4624                 val_loss: 0.4431                 train accuracy: 79.98 %                 val accuracy: 81.13 %\n",
      "Epoch: 285                 train_loss: 0.4572                 val_loss: 0.4428                 train accuracy: 80.09 %                 val accuracy: 81.09 %\n",
      "Epoch: 290                 train_loss: 0.4544                 val_loss: 0.4424                 train accuracy: 80.26 %                 val accuracy: 81.04 %\n",
      "Early stopping! Epoch = 293\n"
     ]
    },
    {
     "data": {
      "image/png": "[encoded data removed]",
      "text/plain": [
       "<Figure size 800x400 with 2 Axes>"
      ]
     },
     "metadata": {
      "needs_background": "light"
     },
     "output_type": "display_data"
    }
   ],
   "source": [
    "model = training(device='cpu',\n",
    "                 model=model,\n",
    "                 epochs=300,\n",
    "                 optimizer=optimizer,\n",
    "                 loss_function=criterion,\n",
    "                 train_loader=train_dl,\n",
    "                 valid_loader=val_dl,\n",
    "                 early_stopping=True)"
   ]
  },
  {
   "cell_type": "code",
   "execution_count": null,
   "metadata": {
    "colab": {
     "base_uri": "https://localhost:8080/"
    },
    "id": "Dagw7-TrUBUX",
    "outputId": "2d741167-010c-4e5c-fe74-ef76a886a489"
   },
   "outputs": [
    {
     "name": "stdout",
     "output_type": "stream",
     "text": [
      "Model training complete!\n",
      "Prediction complete!\n"
     ]
    }
   ],
   "source": [
    "# Train model on full data\n",
    "model = LSTMmodel(emb_dim=100, out_size=1).to('cpu')\n",
    "criterion = nn.BCELoss()\n",
    "optimizer = torch.optim.Adam(model.parameters(), lr=0.0001)\n",
    "\n",
    "model = training(device='cpu',\n",
    "                 model=model,\n",
    "                 epochs=280,\n",
    "                 optimizer=optimizer,\n",
    "                 loss_function=criterion,\n",
    "                 train_loader=train_dl,\n",
    "                 valid_loader=val_dl,\n",
    "                 early_stopping=True,\n",
    "                 predict=True)\n",
    "print('Model training complete!')\n",
    "\n",
    "# Prepare data from test.csv\n",
    "def tweets_to_tensor(tweet):\n",
    "    emb = [embeddings.get_embedding(x) for x in tweet if x in embeddings.word_to_index]\n",
    "    data_zeros = np.zeros((21,100))\n",
    "    if len(emb) > 0:\n",
    "        data_zeros[:len(emb), :] = emb\n",
    "    data = torch.Tensor(data_zeros)\n",
    "    return data\n",
    "\n",
    "tensor = df_test['text'].apply(tweets_to_tensor).values\n",
    "\n",
    "# Prediction\n",
    "predictions = []\n",
    "with torch.no_grad():\n",
    "    for data in tensor:\n",
    "        data = data.to('cpu')\n",
    "        prediction = model(data.unsqueeze(0))\n",
    "        predictions.append(round(prediction.item()))\n",
    "\n",
    "df_predict = pd.concat([df_test['id'], pd.DataFrame(predictions, dtype='int', columns=['target'])], axis=1)\n",
    "df_predict.to_csv('GLOVE_LSTM_model_submission.csv', index=False)\n",
    "print(\"Prediction complete!\")"
   ]
  },
  {
   "cell_type": "markdown",
   "metadata": {
    "id": "U1VBIbqBbe-3"
   },
   "source": [
    "# Fine-tunning BERT model (Score: 0.81366)"
   ]
  },
  {
   "cell_type": "code",
   "execution_count": null,
   "metadata": {
    "colab": {
     "base_uri": "https://localhost:8080/"
    },
    "id": "G-AcP1DC_Voz",
    "outputId": "7f2fc465-785d-44c1-d4ac-16e7261aeaaa"
   },
   "outputs": [
    {
     "data": {
      "text/plain": [
       "21"
      ]
     },
     "execution_count": 11,
     "metadata": {},
     "output_type": "execute_result"
    }
   ],
   "source": [
    "max_seq_len = df_train['text'].str.len().max()\n",
    "max_seq_len"
   ]
  },
  {
   "cell_type": "code",
   "execution_count": null,
   "metadata": {
    "id": "R6XohekJyyQM"
   },
   "outputs": [],
   "source": [
    "# Prepare train dataset\n",
    "df_train['text'] = df_train['text'].apply(lambda x: \" \".join(x))\n",
    "df_train.drop(['id', 'keyword', 'location'], axis=1, inplace=True)\n",
    "df_train.rename(columns={\"text\": \"text\", \"target\": \"label\"}, inplace=True)\n",
    "dataset = Dataset.from_pandas(df_train, )\n",
    "\n",
    "# Prepare test dataset\n",
    "df_test['text'] = df_test['text'].apply(lambda x: \" \".join(x))\n",
    "df_test_id = df_test['id']\n",
    "df_test.drop(['id', 'keyword', 'location'], axis=1, inplace=True)\n",
    "\n",
    "dataset_test = Dataset.from_pandas(df_test, )"
   ]
  },
  {
   "cell_type": "code",
   "execution_count": null,
   "metadata": {
    "id": "WSr81PU28sZB"
   },
   "outputs": [],
   "source": [
    "# Tweet tokenization\n",
    "tokenizer = AutoTokenizer.from_pretrained(\"bert-base-cased\")\n",
    "\n",
    "def tokenize_function(examples):\n",
    "    return tokenizer(examples[\"text\"], padding=\"max_length\", truncation=True, max_length=max_seq_len)\n",
    "\n",
    "tokenized_datasets = dataset.map(tokenize_function, batched=True)"
   ]
  },
  {
   "cell_type": "code",
   "execution_count": null,
   "metadata": {
    "id": "foDWQU9W8txi"
   },
   "outputs": [],
   "source": [
    "# Download BERT model\n",
    "model = AutoModelForSequenceClassification.from_pretrained(\"bert-base-cased\", num_labels=2)"
   ]
  },
  {
   "cell_type": "code",
   "execution_count": null,
   "metadata": {
    "id": "m34zjlUc9ekH"
   },
   "outputs": [],
   "source": [
    "training_args = TrainingArguments(output_dir=\"test_trainer\")"
   ]
  },
  {
   "cell_type": "code",
   "execution_count": null,
   "metadata": {
    "id": "TAzu-9Sx9g87"
   },
   "outputs": [],
   "source": [
    "metric = load_metric(\"accuracy\")"
   ]
  },
  {
   "cell_type": "code",
   "execution_count": null,
   "metadata": {
    "id": "VpQzpTor9iXp"
   },
   "outputs": [],
   "source": [
    "def compute_metrics(eval_pred):\n",
    "    logits, labels = eval_pred\n",
    "    predictions = np.argmax(logits, axis=-1)\n",
    "    return metric.compute(predictions=predictions, references=labels)"
   ]
  },
  {
   "cell_type": "code",
   "execution_count": null,
   "metadata": {
    "id": "DZgEA90v9kDZ"
   },
   "outputs": [],
   "source": [
    "training_args = TrainingArguments(output_dir=\"test_trainer\", \n",
    "                                  evaluation_strategy=\"epoch\",\n",
    "                                  num_train_epochs=1)"
   ]
  },
  {
   "cell_type": "code",
   "execution_count": null,
   "metadata": {
    "id": "mtY3-IBc9n0O"
   },
   "outputs": [],
   "source": [
    "trainer = Trainer(\n",
    "    model=model,\n",
    "    args=training_args,\n",
    "    train_dataset=tokenized_datasets,\n",
    "    eval_dataset=tokenized_datasets,\n",
    "    compute_metrics=compute_metrics,\n",
    ")"
   ]
  },
  {
   "cell_type": "code",
   "execution_count": null,
   "metadata": {
    "id": "vPMVyB__94Hx"
   },
   "outputs": [],
   "source": [
    "trainer.train()"
   ]
  },
  {
   "cell_type": "code",
   "execution_count": null,
   "metadata": {
    "colab": {
     "base_uri": "https://localhost:8080/",
     "height": 138,
     "referenced_widgets": [
      "47bc3407b602470d93e61839e39c1bee",
      "b27a9bce0008497d87bb543319704714",
      "06d22764af2a486fa0f55693f652c046",
      "741007eb74b0489f9e7d7bf59c3ce0fd",
      "6b7c7e61564e407aa1c1aa8b98088db4",
      "caeee9c6440345539f24602a360a5f82",
      "7bb696ec670c4ff88b0085b3ef576058",
      "af00d8cb162943dda8d72a7126e4316e",
      "c1dc72dbe7aa476a8a41d62f211ccb11",
      "f110182b2eb74563ae72b20c92151608",
      "f82e229bac904b9cb8acd2392c4af436"
     ]
    },
    "id": "i4vH7RRu96K5",
    "outputId": "b4b3b0df-e76b-4207-d3f8-3d5fc32197d2"
   },
   "outputs": [
    {
     "data": {
      "application/vnd.jupyter.widget-view+json": {
       "model_id": "47bc3407b602470d93e61839e39c1bee",
       "version_major": 2,
       "version_minor": 0
      },
      "text/plain": [
       "  0%|          | 0/4 [00:00<?, ?ba/s]"
      ]
     },
     "metadata": {},
     "output_type": "display_data"
    },
    {
     "name": "stderr",
     "output_type": "stream",
     "text": [
      "The following columns in the test set don't have a corresponding argument in `BertForSequenceClassification.forward` and have been ignored: text. If text are not expected by `BertForSequenceClassification.forward`,  you can safely ignore this message.\n",
      "***** Running Prediction *****\n",
      "  Num examples = 3263\n",
      "  Batch size = 8\n"
     ]
    },
    {
     "data": {
      "text/html": [],
      "text/plain": [
       "<IPython.core.display.HTML object>"
      ]
     },
     "metadata": {},
     "output_type": "display_data"
    }
   ],
   "source": [
    "# Tweet tokenization\n",
    "tokenized_test_dataset = dataset_test.map(tokenize_function, batched=True)\n",
    "\n",
    "# Predict\n",
    "prediction = trainer.predict(tokenized_test_dataset)\n",
    "\n",
    "# Save submission\n",
    "df_predict = pd.concat([df_test_id, pd.DataFrame(np.argmax(prediction[0], axis=1), dtype='int', columns=['target'])], axis=1)\n",
    "df_predict.to_csv('BERT_submission.csv', index=False)\n",
    "print(f\"Prediction complete!\")"
   ]
  },
  {
   "cell_type": "markdown",
   "metadata": {
    "id": "Ae6jNC8kiwrL"
   },
   "source": [
    "# Fine tunning ROBERT model (Score: 0.81612)"
   ]
  },
  {
   "cell_type": "code",
   "execution_count": null,
   "metadata": {
    "id": "PDXKzvlOnWUa"
   },
   "outputs": [],
   "source": [
    "# load model and tokenizer and define length of the text sequence\n",
    "model = RobertaForSequenceClassification.from_pretrained('roberta-base')\n",
    "tokenizer = RobertaTokenizerFast.from_pretrained('roberta-base', max_length = max_seq_len)"
   ]
  },
  {
   "cell_type": "code",
   "execution_count": null,
   "metadata": {
    "id": "TWQ3FmSOnj1W"
   },
   "outputs": [],
   "source": [
    "# define a function that will tokenize the model, and will return the relevant inputs for the model\n",
    "def tokenization(batched_text):\n",
    "    return tokenizer(batched_text['text'], padding = True, truncation=True)\n",
    "\n",
    "\n",
    "train_data = dataset.map(tokenization, batched = True, batch_size = len(dataset)) #\n",
    "# test_data = test_data.map(tokenization, batched = True, batch_size = len(test_data))"
   ]
  },
  {
   "cell_type": "code",
   "execution_count": null,
   "metadata": {
    "id": "0Sy8_2QantoC"
   },
   "outputs": [],
   "source": [
    "train_data.set_format('torch', columns=['input_ids', 'attention_mask', 'label'])"
   ]
  },
  {
   "cell_type": "code",
   "execution_count": null,
   "metadata": {
    "id": "_d-ldiadoAIt"
   },
   "outputs": [],
   "source": [
    "# define accuracy metrics\n",
    "def compute_metrics(pred):\n",
    "    labels = pred.label_ids\n",
    "    preds = pred.predictions.argmax(-1)\n",
    "    precision, recall, f1, _ = precision_recall_fscore_support(labels, preds, average='binary')\n",
    "    acc = accuracy_score(labels, preds)\n",
    "    return {\n",
    "        'accuracy': acc,\n",
    "        'f1': f1,\n",
    "        'precision': precision,\n",
    "        'recall': recall\n",
    "    }"
   ]
  },
  {
   "cell_type": "code",
   "execution_count": null,
   "metadata": {
    "id": "06vQWJRboCwm"
   },
   "outputs": [],
   "source": [
    "# define the training arguments\n",
    "training_args = TrainingArguments(\n",
    "    output_dir = '/content/sample_data/results',\n",
    "    num_train_epochs=4,\n",
    "    per_device_train_batch_size = 4,\n",
    "    gradient_accumulation_steps = 16,    \n",
    "    per_device_eval_batch_size= 8,\n",
    "    load_best_model_at_end = True,\n",
    "    evaluation_strategy = \"epoch\",\n",
    "    save_strategy = 'epoch',\n",
    "    disable_tqdm = False, \n",
    "    warmup_steps=500,\n",
    "    weight_decay=0.01,\n",
    "    # logging_steps = 8,\n",
    "    # fp16 = True,\n",
    "    logging_dir='/content/sample_data/logs',\n",
    "    dataloader_num_workers = 8,\n",
    "    # run_name = 'roberta-classification'\n",
    ")"
   ]
  },
  {
   "cell_type": "code",
   "execution_count": null,
   "metadata": {
    "colab": {
     "base_uri": "https://localhost:8080/",
     "height": 36
    },
    "id": "pr7LRBJ-oL7o",
    "outputId": "4e89ecf7-aa42-45cf-d590-51511ec9c5d9"
   },
   "outputs": [
    {
     "data": {
      "application/vnd.google.colaboratory.intrinsic+json": {
       "type": "string"
      },
      "text/plain": [
       "'cuda'"
      ]
     },
     "execution_count": 46,
     "metadata": {},
     "output_type": "execute_result"
    }
   ],
   "source": [
    "# instantiate the trainer class and check for available devices\n",
    "trainer = Trainer(\n",
    "    model=model,\n",
    "    args=training_args,\n",
    "    compute_metrics=compute_metrics,\n",
    "    train_dataset=train_data,\n",
    "    eval_dataset=train_data\n",
    ")\n",
    "device = 'cuda' if torch.cuda.is_available() else 'cpu'\n",
    "device"
   ]
  },
  {
   "cell_type": "code",
   "execution_count": null,
   "metadata": {
    "id": "UzHjDOa5qnFP"
   },
   "outputs": [],
   "source": [
    "os.environ[\"WANDB_DISABLED\"] = \"true\""
   ]
  },
  {
   "cell_type": "code",
   "execution_count": null,
   "metadata": {
    "id": "WQhOF7tto95X"
   },
   "outputs": [],
   "source": [
    "# train the model\n",
    "trainer.train()"
   ]
  },
  {
   "cell_type": "code",
   "execution_count": null,
   "metadata": {
    "colab": {
     "base_uri": "https://localhost:8080/",
     "height": 160,
     "referenced_widgets": [
      "4f6fa7ce542d4261b359c3f2488bb04c",
      "50182166ec1d4032929d1b13092af46b",
      "d0a4f76b6fc342a693231dd4942676f8",
      "e472a30af74146cc8570a8086a5eee12",
      "f62ac62e112546eba388e3296b18615c",
      "d8cebe35d8134e328194c14fb560c8d8",
      "08597e1b8cd14e0089484e00f989848c",
      "dc8e562801644db9b5cd362a418f747a",
      "0a4b34c8838c497aa89bacfc7072f5c3",
      "fc17dabc2a564c72b0081e5b8596e8ce",
      "520e6e6fdfcd44d7bbed41f8b036b145"
     ]
    },
    "id": "cqRxmPVHpHPa",
    "outputId": "c5745914-f122-408c-a73e-c831cf76b7be"
   },
   "outputs": [
    {
     "data": {
      "application/vnd.jupyter.widget-view+json": {
       "model_id": "4f6fa7ce542d4261b359c3f2488bb04c",
       "version_major": 2,
       "version_minor": 0
      },
      "text/plain": [
       "  0%|          | 0/1 [00:00<?, ?ba/s]"
      ]
     },
     "metadata": {},
     "output_type": "display_data"
    },
    {
     "name": "stderr",
     "output_type": "stream",
     "text": [
      "The following columns in the test set don't have a corresponding argument in `RobertaForSequenceClassification.forward` and have been ignored: text. If text are not expected by `RobertaForSequenceClassification.forward`,  you can safely ignore this message.\n",
      "***** Running Prediction *****\n",
      "  Num examples = 3263\n",
      "  Batch size = 8\n"
     ]
    },
    {
     "data": {
      "text/html": [],
      "text/plain": [
       "<IPython.core.display.HTML object>"
      ]
     },
     "metadata": {},
     "output_type": "display_data"
    },
    {
     "name": "stdout",
     "output_type": "stream",
     "text": [
      "Prediction complete!\n"
     ]
    }
   ],
   "source": [
    "# Tweet tokenization\n",
    "tokenized_test_dataset = dataset_test.map(tokenization, batched = True, batch_size = len(dataset)) # \n",
    "\n",
    "prediction = trainer.predict(tokenized_test_dataset)\n",
    "\n",
    "# Save submission\n",
    "df_predict = pd.concat([df_test_id, pd.DataFrame(np.argmax(prediction[0], axis=1), dtype='int', columns=['target'])], axis=1)\n",
    "df_predict.to_csv('ROBERT_submission.csv', index=False)\n",
    "print('Prediction complete!')\n",
    "\n",
    "# Score: 0.78486 - 1 epoch\n",
    "# Score: 0.57033 - 3 epoch\n",
    "\n",
    "# Score: 0.80692 - 3 epoch\n",
    "# Score: 0.81244 - 6 epoch\n",
    "\n",
    "# Score: 0.81612 - 5 epoch"
   ]
  }
 ],
 "metadata": {
  "accelerator": "GPU",
  "colab": {
   "collapsed_sections": [],
   "provenance": []
  },
  "gpuClass": "standard",
  "kernelspec": {
   "display_name": "Python 3 (ipykernel)",
   "language": "python",
   "name": "python3"
  },
  "language_info": {
   "codemirror_mode": {
    "name": "ipython",
    "version": 3
   },
   "file_extension": ".py",
   "mimetype": "text/x-python",
   "name": "python",
   "nbconvert_exporter": "python",
   "pygments_lexer": "ipython3",
   "version": "3.9.7"
  },
  "widgets": {
   "application/vnd.jupyter.widget-state+json": {
    "06d22764af2a486fa0f55693f652c046": {
     "model_module": "@jupyter-widgets/controls",
     "model_module_version": "1.5.0",
     "model_name": "FloatProgressModel",
     "state": {
      "_dom_classes": [],
      "_model_module": "@jupyter-widgets/controls",
      "_model_module_version": "1.5.0",
      "_model_name": "FloatProgressModel",
      "_view_count": null,
      "_view_module": "@jupyter-widgets/controls",
      "_view_module_version": "1.5.0",
      "_view_name": "ProgressView",
      "bar_style": "success",
      "description": "",
      "description_tooltip": null,
      "layout": "IPY_MODEL_af00d8cb162943dda8d72a7126e4316e",
      "max": 4,
      "min": 0,
      "orientation": "horizontal",
      "style": "IPY_MODEL_c1dc72dbe7aa476a8a41d62f211ccb11",
      "value": 4
     }
    },
    "08597e1b8cd14e0089484e00f989848c": {
     "model_module": "@jupyter-widgets/controls",
     "model_module_version": "1.5.0",
     "model_name": "DescriptionStyleModel",
     "state": {
      "_model_module": "@jupyter-widgets/controls",
      "_model_module_version": "1.5.0",
      "_model_name": "DescriptionStyleModel",
      "_view_count": null,
      "_view_module": "@jupyter-widgets/base",
      "_view_module_version": "1.2.0",
      "_view_name": "StyleView",
      "description_width": ""
     }
    },
    "0a4b34c8838c497aa89bacfc7072f5c3": {
     "model_module": "@jupyter-widgets/controls",
     "model_module_version": "1.5.0",
     "model_name": "ProgressStyleModel",
     "state": {
      "_model_module": "@jupyter-widgets/controls",
      "_model_module_version": "1.5.0",
      "_model_name": "ProgressStyleModel",
      "_view_count": null,
      "_view_module": "@jupyter-widgets/base",
      "_view_module_version": "1.2.0",
      "_view_name": "StyleView",
      "bar_color": null,
      "description_width": ""
     }
    },
    "47bc3407b602470d93e61839e39c1bee": {
     "model_module": "@jupyter-widgets/controls",
     "model_module_version": "1.5.0",
     "model_name": "HBoxModel",
     "state": {
      "_dom_classes": [],
      "_model_module": "@jupyter-widgets/controls",
      "_model_module_version": "1.5.0",
      "_model_name": "HBoxModel",
      "_view_count": null,
      "_view_module": "@jupyter-widgets/controls",
      "_view_module_version": "1.5.0",
      "_view_name": "HBoxView",
      "box_style": "",
      "children": [
       "IPY_MODEL_b27a9bce0008497d87bb543319704714",
       "IPY_MODEL_06d22764af2a486fa0f55693f652c046",
       "IPY_MODEL_741007eb74b0489f9e7d7bf59c3ce0fd"
      ],
      "layout": "IPY_MODEL_6b7c7e61564e407aa1c1aa8b98088db4"
     }
    },
    "4f6fa7ce542d4261b359c3f2488bb04c": {
     "model_module": "@jupyter-widgets/controls",
     "model_module_version": "1.5.0",
     "model_name": "HBoxModel",
     "state": {
      "_dom_classes": [],
      "_model_module": "@jupyter-widgets/controls",
      "_model_module_version": "1.5.0",
      "_model_name": "HBoxModel",
      "_view_count": null,
      "_view_module": "@jupyter-widgets/controls",
      "_view_module_version": "1.5.0",
      "_view_name": "HBoxView",
      "box_style": "",
      "children": [
       "IPY_MODEL_50182166ec1d4032929d1b13092af46b",
       "IPY_MODEL_d0a4f76b6fc342a693231dd4942676f8",
       "IPY_MODEL_e472a30af74146cc8570a8086a5eee12"
      ],
      "layout": "IPY_MODEL_f62ac62e112546eba388e3296b18615c"
     }
    },
    "50182166ec1d4032929d1b13092af46b": {
     "model_module": "@jupyter-widgets/controls",
     "model_module_version": "1.5.0",
     "model_name": "HTMLModel",
     "state": {
      "_dom_classes": [],
      "_model_module": "@jupyter-widgets/controls",
      "_model_module_version": "1.5.0",
      "_model_name": "HTMLModel",
      "_view_count": null,
      "_view_module": "@jupyter-widgets/controls",
      "_view_module_version": "1.5.0",
      "_view_name": "HTMLView",
      "description": "",
      "description_tooltip": null,
      "layout": "IPY_MODEL_d8cebe35d8134e328194c14fb560c8d8",
      "placeholder": "​",
      "style": "IPY_MODEL_08597e1b8cd14e0089484e00f989848c",
      "value": "100%"
     }
    },
    "520e6e6fdfcd44d7bbed41f8b036b145": {
     "model_module": "@jupyter-widgets/controls",
     "model_module_version": "1.5.0",
     "model_name": "DescriptionStyleModel",
     "state": {
      "_model_module": "@jupyter-widgets/controls",
      "_model_module_version": "1.5.0",
      "_model_name": "DescriptionStyleModel",
      "_view_count": null,
      "_view_module": "@jupyter-widgets/base",
      "_view_module_version": "1.2.0",
      "_view_name": "StyleView",
      "description_width": ""
     }
    },
    "6b7c7e61564e407aa1c1aa8b98088db4": {
     "model_module": "@jupyter-widgets/base",
     "model_module_version": "1.2.0",
     "model_name": "LayoutModel",
     "state": {
      "_model_module": "@jupyter-widgets/base",
      "_model_module_version": "1.2.0",
      "_model_name": "LayoutModel",
      "_view_count": null,
      "_view_module": "@jupyter-widgets/base",
      "_view_module_version": "1.2.0",
      "_view_name": "LayoutView",
      "align_content": null,
      "align_items": null,
      "align_self": null,
      "border": null,
      "bottom": null,
      "display": null,
      "flex": null,
      "flex_flow": null,
      "grid_area": null,
      "grid_auto_columns": null,
      "grid_auto_flow": null,
      "grid_auto_rows": null,
      "grid_column": null,
      "grid_gap": null,
      "grid_row": null,
      "grid_template_areas": null,
      "grid_template_columns": null,
      "grid_template_rows": null,
      "height": null,
      "justify_content": null,
      "justify_items": null,
      "left": null,
      "margin": null,
      "max_height": null,
      "max_width": null,
      "min_height": null,
      "min_width": null,
      "object_fit": null,
      "object_position": null,
      "order": null,
      "overflow": null,
      "overflow_x": null,
      "overflow_y": null,
      "padding": null,
      "right": null,
      "top": null,
      "visibility": null,
      "width": null
     }
    },
    "741007eb74b0489f9e7d7bf59c3ce0fd": {
     "model_module": "@jupyter-widgets/controls",
     "model_module_version": "1.5.0",
     "model_name": "HTMLModel",
     "state": {
      "_dom_classes": [],
      "_model_module": "@jupyter-widgets/controls",
      "_model_module_version": "1.5.0",
      "_model_name": "HTMLModel",
      "_view_count": null,
      "_view_module": "@jupyter-widgets/controls",
      "_view_module_version": "1.5.0",
      "_view_name": "HTMLView",
      "description": "",
      "description_tooltip": null,
      "layout": "IPY_MODEL_f110182b2eb74563ae72b20c92151608",
      "placeholder": "​",
      "style": "IPY_MODEL_f82e229bac904b9cb8acd2392c4af436",
      "value": " 4/4 [00:00&lt;00:00, 15.11ba/s]"
     }
    },
    "7bb696ec670c4ff88b0085b3ef576058": {
     "model_module": "@jupyter-widgets/controls",
     "model_module_version": "1.5.0",
     "model_name": "DescriptionStyleModel",
     "state": {
      "_model_module": "@jupyter-widgets/controls",
      "_model_module_version": "1.5.0",
      "_model_name": "DescriptionStyleModel",
      "_view_count": null,
      "_view_module": "@jupyter-widgets/base",
      "_view_module_version": "1.2.0",
      "_view_name": "StyleView",
      "description_width": ""
     }
    },
    "af00d8cb162943dda8d72a7126e4316e": {
     "model_module": "@jupyter-widgets/base",
     "model_module_version": "1.2.0",
     "model_name": "LayoutModel",
     "state": {
      "_model_module": "@jupyter-widgets/base",
      "_model_module_version": "1.2.0",
      "_model_name": "LayoutModel",
      "_view_count": null,
      "_view_module": "@jupyter-widgets/base",
      "_view_module_version": "1.2.0",
      "_view_name": "LayoutView",
      "align_content": null,
      "align_items": null,
      "align_self": null,
      "border": null,
      "bottom": null,
      "display": null,
      "flex": null,
      "flex_flow": null,
      "grid_area": null,
      "grid_auto_columns": null,
      "grid_auto_flow": null,
      "grid_auto_rows": null,
      "grid_column": null,
      "grid_gap": null,
      "grid_row": null,
      "grid_template_areas": null,
      "grid_template_columns": null,
      "grid_template_rows": null,
      "height": null,
      "justify_content": null,
      "justify_items": null,
      "left": null,
      "margin": null,
      "max_height": null,
      "max_width": null,
      "min_height": null,
      "min_width": null,
      "object_fit": null,
      "object_position": null,
      "order": null,
      "overflow": null,
      "overflow_x": null,
      "overflow_y": null,
      "padding": null,
      "right": null,
      "top": null,
      "visibility": null,
      "width": null
     }
    },
    "b27a9bce0008497d87bb543319704714": {
     "model_module": "@jupyter-widgets/controls",
     "model_module_version": "1.5.0",
     "model_name": "HTMLModel",
     "state": {
      "_dom_classes": [],
      "_model_module": "@jupyter-widgets/controls",
      "_model_module_version": "1.5.0",
      "_model_name": "HTMLModel",
      "_view_count": null,
      "_view_module": "@jupyter-widgets/controls",
      "_view_module_version": "1.5.0",
      "_view_name": "HTMLView",
      "description": "",
      "description_tooltip": null,
      "layout": "IPY_MODEL_caeee9c6440345539f24602a360a5f82",
      "placeholder": "​",
      "style": "IPY_MODEL_7bb696ec670c4ff88b0085b3ef576058",
      "value": "100%"
     }
    },
    "c1dc72dbe7aa476a8a41d62f211ccb11": {
     "model_module": "@jupyter-widgets/controls",
     "model_module_version": "1.5.0",
     "model_name": "ProgressStyleModel",
     "state": {
      "_model_module": "@jupyter-widgets/controls",
      "_model_module_version": "1.5.0",
      "_model_name": "ProgressStyleModel",
      "_view_count": null,
      "_view_module": "@jupyter-widgets/base",
      "_view_module_version": "1.2.0",
      "_view_name": "StyleView",
      "bar_color": null,
      "description_width": ""
     }
    },
    "caeee9c6440345539f24602a360a5f82": {
     "model_module": "@jupyter-widgets/base",
     "model_module_version": "1.2.0",
     "model_name": "LayoutModel",
     "state": {
      "_model_module": "@jupyter-widgets/base",
      "_model_module_version": "1.2.0",
      "_model_name": "LayoutModel",
      "_view_count": null,
      "_view_module": "@jupyter-widgets/base",
      "_view_module_version": "1.2.0",
      "_view_name": "LayoutView",
      "align_content": null,
      "align_items": null,
      "align_self": null,
      "border": null,
      "bottom": null,
      "display": null,
      "flex": null,
      "flex_flow": null,
      "grid_area": null,
      "grid_auto_columns": null,
      "grid_auto_flow": null,
      "grid_auto_rows": null,
      "grid_column": null,
      "grid_gap": null,
      "grid_row": null,
      "grid_template_areas": null,
      "grid_template_columns": null,
      "grid_template_rows": null,
      "height": null,
      "justify_content": null,
      "justify_items": null,
      "left": null,
      "margin": null,
      "max_height": null,
      "max_width": null,
      "min_height": null,
      "min_width": null,
      "object_fit": null,
      "object_position": null,
      "order": null,
      "overflow": null,
      "overflow_x": null,
      "overflow_y": null,
      "padding": null,
      "right": null,
      "top": null,
      "visibility": null,
      "width": null
     }
    },
    "d0a4f76b6fc342a693231dd4942676f8": {
     "model_module": "@jupyter-widgets/controls",
     "model_module_version": "1.5.0",
     "model_name": "FloatProgressModel",
     "state": {
      "_dom_classes": [],
      "_model_module": "@jupyter-widgets/controls",
      "_model_module_version": "1.5.0",
      "_model_name": "FloatProgressModel",
      "_view_count": null,
      "_view_module": "@jupyter-widgets/controls",
      "_view_module_version": "1.5.0",
      "_view_name": "ProgressView",
      "bar_style": "success",
      "description": "",
      "description_tooltip": null,
      "layout": "IPY_MODEL_dc8e562801644db9b5cd362a418f747a",
      "max": 1,
      "min": 0,
      "orientation": "horizontal",
      "style": "IPY_MODEL_0a4b34c8838c497aa89bacfc7072f5c3",
      "value": 1
     }
    },
    "d8cebe35d8134e328194c14fb560c8d8": {
     "model_module": "@jupyter-widgets/base",
     "model_module_version": "1.2.0",
     "model_name": "LayoutModel",
     "state": {
      "_model_module": "@jupyter-widgets/base",
      "_model_module_version": "1.2.0",
      "_model_name": "LayoutModel",
      "_view_count": null,
      "_view_module": "@jupyter-widgets/base",
      "_view_module_version": "1.2.0",
      "_view_name": "LayoutView",
      "align_content": null,
      "align_items": null,
      "align_self": null,
      "border": null,
      "bottom": null,
      "display": null,
      "flex": null,
      "flex_flow": null,
      "grid_area": null,
      "grid_auto_columns": null,
      "grid_auto_flow": null,
      "grid_auto_rows": null,
      "grid_column": null,
      "grid_gap": null,
      "grid_row": null,
      "grid_template_areas": null,
      "grid_template_columns": null,
      "grid_template_rows": null,
      "height": null,
      "justify_content": null,
      "justify_items": null,
      "left": null,
      "margin": null,
      "max_height": null,
      "max_width": null,
      "min_height": null,
      "min_width": null,
      "object_fit": null,
      "object_position": null,
      "order": null,
      "overflow": null,
      "overflow_x": null,
      "overflow_y": null,
      "padding": null,
      "right": null,
      "top": null,
      "visibility": null,
      "width": null
     }
    },
    "dc8e562801644db9b5cd362a418f747a": {
     "model_module": "@jupyter-widgets/base",
     "model_module_version": "1.2.0",
     "model_name": "LayoutModel",
     "state": {
      "_model_module": "@jupyter-widgets/base",
      "_model_module_version": "1.2.0",
      "_model_name": "LayoutModel",
      "_view_count": null,
      "_view_module": "@jupyter-widgets/base",
      "_view_module_version": "1.2.0",
      "_view_name": "LayoutView",
      "align_content": null,
      "align_items": null,
      "align_self": null,
      "border": null,
      "bottom": null,
      "display": null,
      "flex": null,
      "flex_flow": null,
      "grid_area": null,
      "grid_auto_columns": null,
      "grid_auto_flow": null,
      "grid_auto_rows": null,
      "grid_column": null,
      "grid_gap": null,
      "grid_row": null,
      "grid_template_areas": null,
      "grid_template_columns": null,
      "grid_template_rows": null,
      "height": null,
      "justify_content": null,
      "justify_items": null,
      "left": null,
      "margin": null,
      "max_height": null,
      "max_width": null,
      "min_height": null,
      "min_width": null,
      "object_fit": null,
      "object_position": null,
      "order": null,
      "overflow": null,
      "overflow_x": null,
      "overflow_y": null,
      "padding": null,
      "right": null,
      "top": null,
      "visibility": null,
      "width": null
     }
    },
    "e472a30af74146cc8570a8086a5eee12": {
     "model_module": "@jupyter-widgets/controls",
     "model_module_version": "1.5.0",
     "model_name": "HTMLModel",
     "state": {
      "_dom_classes": [],
      "_model_module": "@jupyter-widgets/controls",
      "_model_module_version": "1.5.0",
      "_model_name": "HTMLModel",
      "_view_count": null,
      "_view_module": "@jupyter-widgets/controls",
      "_view_module_version": "1.5.0",
      "_view_name": "HTMLView",
      "description": "",
      "description_tooltip": null,
      "layout": "IPY_MODEL_fc17dabc2a564c72b0081e5b8596e8ce",
      "placeholder": "​",
      "style": "IPY_MODEL_520e6e6fdfcd44d7bbed41f8b036b145",
      "value": " 1/1 [00:00&lt;00:00,  4.42ba/s]"
     }
    },
    "f110182b2eb74563ae72b20c92151608": {
     "model_module": "@jupyter-widgets/base",
     "model_module_version": "1.2.0",
     "model_name": "LayoutModel",
     "state": {
      "_model_module": "@jupyter-widgets/base",
      "_model_module_version": "1.2.0",
      "_model_name": "LayoutModel",
      "_view_count": null,
      "_view_module": "@jupyter-widgets/base",
      "_view_module_version": "1.2.0",
      "_view_name": "LayoutView",
      "align_content": null,
      "align_items": null,
      "align_self": null,
      "border": null,
      "bottom": null,
      "display": null,
      "flex": null,
      "flex_flow": null,
      "grid_area": null,
      "grid_auto_columns": null,
      "grid_auto_flow": null,
      "grid_auto_rows": null,
      "grid_column": null,
      "grid_gap": null,
      "grid_row": null,
      "grid_template_areas": null,
      "grid_template_columns": null,
      "grid_template_rows": null,
      "height": null,
      "justify_content": null,
      "justify_items": null,
      "left": null,
      "margin": null,
      "max_height": null,
      "max_width": null,
      "min_height": null,
      "min_width": null,
      "object_fit": null,
      "object_position": null,
      "order": null,
      "overflow": null,
      "overflow_x": null,
      "overflow_y": null,
      "padding": null,
      "right": null,
      "top": null,
      "visibility": null,
      "width": null
     }
    },
    "f62ac62e112546eba388e3296b18615c": {
     "model_module": "@jupyter-widgets/base",
     "model_module_version": "1.2.0",
     "model_name": "LayoutModel",
     "state": {
      "_model_module": "@jupyter-widgets/base",
      "_model_module_version": "1.2.0",
      "_model_name": "LayoutModel",
      "_view_count": null,
      "_view_module": "@jupyter-widgets/base",
      "_view_module_version": "1.2.0",
      "_view_name": "LayoutView",
      "align_content": null,
      "align_items": null,
      "align_self": null,
      "border": null,
      "bottom": null,
      "display": null,
      "flex": null,
      "flex_flow": null,
      "grid_area": null,
      "grid_auto_columns": null,
      "grid_auto_flow": null,
      "grid_auto_rows": null,
      "grid_column": null,
      "grid_gap": null,
      "grid_row": null,
      "grid_template_areas": null,
      "grid_template_columns": null,
      "grid_template_rows": null,
      "height": null,
      "justify_content": null,
      "justify_items": null,
      "left": null,
      "margin": null,
      "max_height": null,
      "max_width": null,
      "min_height": null,
      "min_width": null,
      "object_fit": null,
      "object_position": null,
      "order": null,
      "overflow": null,
      "overflow_x": null,
      "overflow_y": null,
      "padding": null,
      "right": null,
      "top": null,
      "visibility": null,
      "width": null
     }
    },
    "f82e229bac904b9cb8acd2392c4af436": {
     "model_module": "@jupyter-widgets/controls",
     "model_module_version": "1.5.0",
     "model_name": "DescriptionStyleModel",
     "state": {
      "_model_module": "@jupyter-widgets/controls",
      "_model_module_version": "1.5.0",
      "_model_name": "DescriptionStyleModel",
      "_view_count": null,
      "_view_module": "@jupyter-widgets/base",
      "_view_module_version": "1.2.0",
      "_view_name": "StyleView",
      "description_width": ""
     }
    },
    "fc17dabc2a564c72b0081e5b8596e8ce": {
     "model_module": "@jupyter-widgets/base",
     "model_module_version": "1.2.0",
     "model_name": "LayoutModel",
     "state": {
      "_model_module": "@jupyter-widgets/base",
      "_model_module_version": "1.2.0",
      "_model_name": "LayoutModel",
      "_view_count": null,
      "_view_module": "@jupyter-widgets/base",
      "_view_module_version": "1.2.0",
      "_view_name": "LayoutView",
      "align_content": null,
      "align_items": null,
      "align_self": null,
      "border": null,
      "bottom": null,
      "display": null,
      "flex": null,
      "flex_flow": null,
      "grid_area": null,
      "grid_auto_columns": null,
      "grid_auto_flow": null,
      "grid_auto_rows": null,
      "grid_column": null,
      "grid_gap": null,
      "grid_row": null,
      "grid_template_areas": null,
      "grid_template_columns": null,
      "grid_template_rows": null,
      "height": null,
      "justify_content": null,
      "justify_items": null,
      "left": null,
      "margin": null,
      "max_height": null,
      "max_width": null,
      "min_height": null,
      "min_width": null,
      "object_fit": null,
      "object_position": null,
      "order": null,
      "overflow": null,
      "overflow_x": null,
      "overflow_y": null,
      "padding": null,
      "right": null,
      "top": null,
      "visibility": null,
      "width": null
     }
    }
   }
  }
 },
 "nbformat": 4,
 "nbformat_minor": 1
}
